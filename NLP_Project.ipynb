{
 "cells": [
  {
   "cell_type": "code",
   "execution_count": 2,
   "metadata": {},
   "outputs": [],
   "source": [
    "import tensorflow as tf\n",
    "from tensorflow.keras.preprocessing.sequence import pad_sequences\n",
    "import pandas as pd\n",
    "import numpy as np\n",
    "import tensorflow_datasets as tfds\n",
    "from sklearn.utils import shuffle"
   ]
  },
  {
   "cell_type": "code",
   "execution_count": 3,
   "metadata": {},
   "outputs": [],
   "source": [
    "dataset=pd.read_csv('normalised_english_reviews.csv')\n",
    "dataset=shuffle(dataset)"
   ]
  },
  {
   "cell_type": "code",
   "execution_count": 4,
   "metadata": {},
   "outputs": [],
   "source": [
    "reviews=dataset['text'].tolist()\n",
    "labels=dataset['polarity'].tolist()"
   ]
  },
  {
   "cell_type": "code",
   "execution_count": 5,
   "metadata": {},
   "outputs": [
    {
     "name": "stdout",
     "output_type": "stream",
     "text": [
      "Vocab size is 5030\n"
     ]
    }
   ],
   "source": [
    "vocab_size=5100\n",
    "tokenizer=tfds.features.text.SubwordTextEncoder.build_from_corpus(reviews,vocab_size,max_subword_length=4)\n",
    "print(\"Vocab size is\",tokenizer.vocab_size)"
   ]
  },
  {
   "cell_type": "code",
   "execution_count": 6,
   "metadata": {},
   "outputs": [],
   "source": [
    "for i,sentence in enumerate(reviews):\n",
    "    reviews[i]=tokenizer.encode(sentence)"
   ]
  },
  {
   "cell_type": "code",
   "execution_count": 7,
   "metadata": {},
   "outputs": [],
   "source": [
    "max_length  = 50\n",
    "trunc_type='post'\n",
    "padding_type='post'\n",
    "reviews_padded = pad_sequences(reviews,maxlen=max_length, padding=padding_type, truncating=trunc_type)\n",
    "\n",
    "training_size=int(len(reviews)*0.8)\n",
    "validation_end=int(len(reviews))\n",
    "\n",
    "training_reviews=reviews_padded[0:training_size]\n",
    "training_labels=labels[0:training_size]\n",
    "validation_reviews=reviews_padded[training_size:validation_end]\n",
    "validation_labels=labels[training_size:validation_end]\n",
    "testing_reviews=np.array(reviews_padded[validation_end:])\n",
    "testing_labels=labels[validation_end:]\n",
    "\n",
    "training_reviews_final=np.array(training_reviews)\n",
    "validation_reviews_final=np.array(validation_reviews)\n",
    "training_labels_final = np.array(training_labels)\n",
    "validation_labels_final = np.array(validation_labels)\n",
    "testing_labels_final = np.array(testing_labels)\n"
   ]
  },
  {
   "cell_type": "code",
   "execution_count": 8,
   "metadata": {},
   "outputs": [
    {
     "name": "stdout",
     "output_type": "stream",
     "text": [
      "Model: \"sequential\"\n",
      "_________________________________________________________________\n",
      "Layer (type)                 Output Shape              Param #   \n",
      "=================================================================\n",
      "embedding (Embedding)        (None, 50, 5)             25500     \n",
      "_________________________________________________________________\n",
      "bidirectional (Bidirectional (None, 50, 10)            440       \n",
      "_________________________________________________________________\n",
      "bidirectional_1 (Bidirection (None, 10)                640       \n",
      "_________________________________________________________________\n",
      "dense (Dense)                (None, 8)                 88        \n",
      "_________________________________________________________________\n",
      "dense_1 (Dense)              (None, 1)                 9         \n",
      "=================================================================\n",
      "Total params: 26,677\n",
      "Trainable params: 26,677\n",
      "Non-trainable params: 0\n",
      "_________________________________________________________________\n"
     ]
    }
   ],
   "source": [
    "embedding_dim=5\n",
    "\n",
    "model=tf.keras.Sequential([\n",
    "    tf.keras.layers.Embedding(vocab_size,embedding_dim,input_length=max_length),\n",
    "    tf.keras.layers.Bidirectional(tf.keras.layers.LSTM(embedding_dim, \n",
    "                                                       return_sequences=True)),\n",
    "    tf.keras.layers.Bidirectional(tf.keras.layers.LSTM(embedding_dim)),\n",
    "    tf.keras.layers.Dense(8, activation='relu'),\n",
    "    tf.keras.layers.Dense(1, activation='sigmoid')\n",
    "])\n",
    "model.summary()"
   ]
  },
  {
   "cell_type": "code",
   "execution_count": 12,
   "metadata": {},
   "outputs": [
    {
     "name": "stdout",
     "output_type": "stream",
     "text": [
      "Train on 3402 samples, validate on 851 samples\n",
      "Epoch 1/100\n",
      "3402/3402 [==============================] - 11s 3ms/sample - loss: 0.3062 - accuracy: 0.5952 - val_loss: 0.6881 - val_accuracy: 0.5006\n",
      "Epoch 2/100\n",
      "3402/3402 [==============================] - 4s 1ms/sample - loss: 0.2997 - accuracy: 0.5947 - val_loss: 0.7347 - val_accuracy: 0.5159\n",
      "Epoch 3/100\n",
      "3402/3402 [==============================] - 4s 1ms/sample - loss: 0.2985 - accuracy: 0.5955 - val_loss: 0.8114 - val_accuracy: 0.5253\n",
      "Epoch 4/100\n",
      "3402/3402 [==============================] - 4s 1ms/sample - loss: 0.2955 - accuracy: 0.5955 - val_loss: 0.8530 - val_accuracy: 0.5065\n",
      "Epoch 5/100\n",
      "3402/3402 [==============================] - 4s 1ms/sample - loss: 0.2938 - accuracy: 0.5952 - val_loss: 0.8456 - val_accuracy: 0.5206\n",
      "Epoch 6/100\n",
      "3402/3402 [==============================] - 4s 1ms/sample - loss: 0.2972 - accuracy: 0.5961 - val_loss: 0.8340 - val_accuracy: 0.5147\n",
      "Epoch 7/100\n",
      "3402/3402 [==============================] - 4s 1ms/sample - loss: 0.2939 - accuracy: 0.5952 - val_loss: 0.7310 - val_accuracy: 0.4994\n",
      "Epoch 8/100\n",
      "3402/3402 [==============================] - 4s 1ms/sample - loss: 0.2919 - accuracy: 0.5955 - val_loss: 0.8676 - val_accuracy: 0.5123\n",
      "Epoch 9/100\n",
      "3402/3402 [==============================] - 4s 1ms/sample - loss: 0.2957 - accuracy: 0.5961 - val_loss: 0.9066 - val_accuracy: 0.5112\n",
      "Epoch 10/100\n",
      "3402/3402 [==============================] - 4s 1ms/sample - loss: 0.2936 - accuracy: 0.5958 - val_loss: 0.8842 - val_accuracy: 0.5206\n",
      "Epoch 11/100\n",
      "3402/3402 [==============================] - 4s 1ms/sample - loss: 0.2923 - accuracy: 0.5958 - val_loss: 0.9067 - val_accuracy: 0.5206\n",
      "Epoch 12/100\n",
      "3402/3402 [==============================] - 4s 1ms/sample - loss: 0.2919 - accuracy: 0.5952 - val_loss: 0.8507 - val_accuracy: 0.4947\n",
      "Epoch 13/100\n",
      "3402/3402 [==============================] - 4s 1ms/sample - loss: 0.2901 - accuracy: 0.5958 - val_loss: 0.9329 - val_accuracy: 0.5135\n"
     ]
    }
   ],
   "source": [
    "es=tf.keras.callbacks.EarlyStopping(monitor='val_accuracy',patience=10)\n",
    "num_epochs=100\n",
    "model.compile(loss='binary_crossentropy',optimizer='adam',metrics=['accuracy'])\n",
    "history=model.fit(training_reviews_final,training_labels_final,epochs=num_epochs,validation_data=(validation_reviews_final,validation_labels_final),callbacks=[es])"
   ]
  },
  {
   "cell_type": "code",
   "execution_count": 13,
   "metadata": {},
   "outputs": [
    {
     "data": {
      "image/png": "[encoded data removed]",
      "text/plain": [
       "<Figure size 432x288 with 1 Axes>"
      ]
     },
     "metadata": {
      "needs_background": "light"
     },
     "output_type": "display_data"
    },
    {
     "data": {
      "image/png": "[encoded data removed]",
      "text/plain": [
       "<Figure size 432x288 with 1 Axes>"
      ]
     },
     "metadata": {
      "needs_background": "light"
     },
     "output_type": "display_data"
    }
   ],
   "source": [
    "import matplotlib.pyplot as plt\n",
    "\n",
    "def plot_graphs(history, string):\n",
    "    plt.plot(history.history[string])\n",
    "    plt.plot(history.history['val_'+string])\n",
    "    plt.xlabel(\"Epochs\")\n",
    "    plt.ylabel(string)\n",
    "    plt.legend([string, 'val_'+string])\n",
    "    plt.show()\n",
    "plot_graphs(history, \"accuracy\")\n",
    "plot_graphs(history, \"loss\")"
   ]
  },
  {
   "cell_type": "code",
   "execution_count": 14,
   "metadata": {},
   "outputs": [],
   "source": [
    "def predict_review(model, new_sentences, maxlen=max_length, show_padded_sequence=True ):\n",
    "         \n",
    "  \n",
    "    new_sequences = [] \n",
    "    for i, frvw in enumerate(new_sentences):\n",
    "        new_sequences.append(tokenizer.encode(frvw))\n",
    "    trunc_type='post' \n",
    "    padding_type='post'\n",
    "\n",
    "    new_reviews_padded = pad_sequences(new_sequences, maxlen=max_length, \n",
    "                                 padding=padding_type, truncating=trunc_type)             \n",
    "\n",
    "    classes = model.predict(new_reviews_padded)\n",
    "\n",
    "    for x in range(len(new_sentences)):\n",
    "        if (show_padded_sequence):\n",
    "            print(new_reviews_padded[x])\n",
    "        print(new_sentences[x])\n",
    "        print(classes[x])\n",
    "        print(\"\\n\")"
   ]
  },
  {
   "cell_type": "code",
   "execution_count": 15,
   "metadata": {},
   "outputs": [
    {
     "name": "stdout",
     "output_type": "stream",
     "text": [
      "[  45  399  150  347   46  639  419 4086 2719    3  163 4813    8    5\n",
      "   65 4806  229  160   23 2961  154    2 1386  908    8 1293 2108  682\n",
      "    2  737 3840 3012 4889    2   65 4806  340 4884 4820 4519    4 1720\n",
      "  273  263   24    1   16 4875  273  133]\n",
      "I had visited it 10 months ago. It's a very beautiful temple, provides healthy meal, superb rules, very clean.Me and my  Loved the place  so much that we are planning again to go there when the temple will get open after lockdown.\n",
      "[0.9983833]\n",
      "\n",
      "\n",
      "[2740 1257    6   54  604  601 4875    0    0    0    0    0    0    0\n",
      "    0    0    0    0    0    0    0    0    0    0    0    0    0    0\n",
      "    0    0    0    0    0    0    0    0    0    0    0    0    0    0\n",
      "    0    0    0    0    0    0    0    0]\n",
      "Transport not available\n",
      "[0.03397507]\n",
      "\n",
      "\n",
      "[ 331 4806   60 1314  224 4820  360    5   65 4806   27 4806   85  126\n",
      "  224    0    0    0    0    0    0    0    0    0    0    0    0    0\n",
      "    0    0    0    0    0    0    0    0    0    0    0    0    0    0\n",
      "    0    0    0    0    0    0    0    0]\n",
      "Food was decent.Not a very good restaurant\n",
      "[0.513647]\n",
      "\n",
      "\n",
      "[ 429   53 4806   16    7   10 2795 4871    3  569  160   23    4  281\n",
      " 2462 4012 4820  797   25  223  211  403 4820  568   46   60  133 4332\n",
      " 1136 4806  262   47 1198   21  685 4806  460  269    3  370    7  674\n",
      " 4806    5  376   11   42 4806 1096    7]\n",
      "My best place in India. Beautiful and spectacular.Highly recommended.But it was so annoying before getting into entrance. There were a lot of your guide and they told us that we need to wait more than an hour without them, but tray was not true. We COULD go in soon. Don't believe them.It was super crowded. Better to go as early as possible.\n",
      "[0.9991571]\n",
      "\n",
      "\n"
     ]
    }
   ],
   "source": [
    "fake_reviews = [\"I had visited it 10 months ago. It's a very beautiful temple, provides healthy meal, superb rules, very clean.Me and my  Loved the place  so much that we are planning again to go there when the temple will get open after lockdown.\", \n",
    "                \"Transport not available\",\n",
    "                \"Food was decent.Not a very good restaurant\", \n",
    "                \"My best place in India. Beautiful and spectacular.Highly recommended.But it was so annoying before getting into entrance. There were a lot of your guide and they told us that we need to wait more than an hour without them, but tray was not true. We COULD go in soon. Don't believe them.It was super crowded. Better to go as early as possible.\"\n",
    "              ]\n",
    "\n",
    "predict_review(model, fake_reviews,False)"
   ]
  }
 ],
 "metadata": {
  "kernelspec": {
   "display_name": "py3-TF2.0",
   "language": "python",
   "name": "py3-tf2.0"
  },
  "language_info": {
   "codemirror_mode": {
    "name": "ipython",
    "version": 3
   },
   "file_extension": ".py",
   "mimetype": "text/x-python",
   "name": "python",
   "nbconvert_exporter": "python",
   "pygments_lexer": "ipython3",
   "version": "3.7.7"
  }
 },
 "nbformat": 4,
 "nbformat_minor": 4
}
